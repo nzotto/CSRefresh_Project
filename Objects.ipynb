{
 "cells": [
  {
   "cell_type": "code",
   "execution_count": 3,
   "metadata": {},
   "outputs": [
    {
     "data": {
      "text/plain": [
       "TestResults(failed=0, attempted=3)"
      ]
     },
     "execution_count": 3,
     "metadata": {},
     "output_type": "execute_result"
    }
   ],
   "source": [
    "from math import sqrt\n",
    "import doctest\n",
    "\n",
    "class Point:\n",
    "    \n",
    "    def __init__(self, x,y):\n",
    "        \"\"\"\n",
    "        Constructor.\n",
    "        arg1 x : the abscissa of the point\n",
    "        arg2 y : the ordinate of the point\n",
    "        \"\"\"\n",
    "        self.x = x\n",
    "        self.y = y\n",
    "    \n",
    "    def distance(self,point):\n",
    "        \"\"\"\n",
    "        arg1 point : the point to which we want to calculate the distance.\n",
    "        return : a float, the distance between the two points.\n",
    "        \n",
    "        >>> Point(0,0).distance(Point(0,0))\n",
    "        0.0\n",
    "        >>> Point(0,0).distance(Point(0,1))\n",
    "        1.0\n",
    "        >>> Point(0,0).distance(Point(-1,0))\n",
    "        1.0\n",
    "        \"\"\"\n",
    "        return sqrt((self.x - point.x)**2+(self.y - point.y)**2)\n",
    "    \n",
    "    def __eq__(self,other):\n",
    "        \"\"\"\n",
    "        arg1 other : the point we wanna compare to.\n",
    "        return : a bool, equal to True iff self is equal to other. \n",
    "        \"\"\"\n",
    "        return(self.x == other.x and self.y == other.y)\n",
    "    \n",
    "\n",
    "doctest.testmod()"
   ]
  },
  {
   "cell_type": "code",
   "execution_count": null,
   "metadata": {},
   "outputs": [],
   "source": [
    "import numpy as np\n",
    "\n",
    "class Segment:\n",
    "    \n",
    "    def __init__(self,p1,p2):\n",
    "        \"\"\"\n",
    "        Constructor.\n",
    "        arg1 p1 : the first point of the segment.\n",
    "        arg2 p2 : the second point of the segment.\n",
    "        \"\"\"\n",
    "        self.p1 = p1\n",
    "        self.p2 = p2\n",
    "        \n",
    "    def length(self):\n",
    "        \"\"\"\n",
    "        return : a float, the length of the segment.\n",
    "        \"\"\"\n",
    "        return((self.p1).distance(self.p2))\n",
    "    \n",
    "    def intersection(self,other):\n",
    "        \"\"\"\n",
    "        arg1 other : a Segment, the one with which we want to compute the intersection\n",
    "        return intersect : a Point, the intersection of the two segments.\n",
    "        \"\"\"\n",
    "        return(intersect)\n",
    "    \n",
    "    def orthogonalProjection(self,point):\n",
    "        \"\"\"\n",
    "        arg1 point : a Point.\n",
    "        return : a Point, the orthogonal projection of point onto self.\n",
    "        \"\"\"\n",
    "        pass\n",
    "    \n",
    "    def pathLength(path):\n",
    "        \"\"\"\n",
    "        arg1 path : a table of Points\n",
    "        return totalLength : a float, the total length of the path made of the sequence of Points in //path//\n",
    "        \"\"\"\n",
    "        totalLength = 0\n",
    "        for i in range(len(path)-1)\n",
    "            totalLength += Segment(path[i],path[i+1]).length\n",
    "        return totalLength"
   ]
  },
  {
   "cell_type": "code",
   "execution_count": null,
   "metadata": {},
   "outputs": [],
   "source": [
    "import numpy as np\n",
    "import np.linalg\n",
    "\n",
    "class Triangle:\n",
    "    \n",
    "    def __init__(self,p1,p2,p3):\n",
    "        \"\"\"\n",
    "        arg1 p1 : a Point\n",
    "        arg2 p2 : a Point\n",
    "        arg3 p3 : a Point\n",
    "        \"\"\"\n",
    "        self.p1 = p1\n",
    "        self.p2 = p2\n",
    "        self.p3 = p3\n",
    "    \n",
    "    def area(self):\n",
    "        \"\"\"\n",
    "        return : the area of the triangle.\n",
    "        \"\"\"\n",
    "        return(0.5*np.linalg.det(np.array([[self.p2.x - self.p1.x,self.p3.x - self.p1.x ],[self.p2.y - self.p1.y, self.p3.y - self.p1.y]])))\n",
    "        "
   ]
  },
  {
   "cell_type": "markdown",
   "metadata": {},
   "source": []
  },
  {
   "cell_type": "code",
   "execution_count": null,
   "metadata": {},
   "outputs": [],
   "source": [
    "class Geometry:\n",
    "    \n",
    "    def computeArea:\n",
    "        pass"
   ]
  },
  {
   "cell_type": "code",
   "execution_count": null,
   "metadata": {},
   "outputs": [],
   "source": [
    "class Trajectory:\n",
    "    \n",
    "    def __init__(self,theo,expe):\n",
    "        \"\"\"\n",
    "        Constructor.\n",
    "        arg1 theo : a list of Points, theoretical path\n",
    "        arg2 expe : a list of Points, experimental path, the real one         \n",
    "        \"\"\"\n",
    "        self.theo = theo\n",
    "        self.expe = expe\n",
    "    "
   ]
  },
  {
   "cell_type": "code",
   "execution_count": 6,
   "metadata": {},
   "outputs": [
    {
     "data": {
      "text/plain": [
       "bool"
      ]
     },
     "execution_count": 6,
     "metadata": {},
     "output_type": "execute_result"
    }
   ],
   "source": [
    "a = True\n",
    "type(a)"
   ]
  }
 ],
 "metadata": {
  "kernelspec": {
   "display_name": "Python 3",
   "language": "python",
   "name": "python3"
  },
  "language_info": {
   "codemirror_mode": {
    "name": "ipython",
    "version": 3
   },
   "file_extension": ".py",
   "mimetype": "text/x-python",
   "name": "python",
   "nbconvert_exporter": "python",
   "pygments_lexer": "ipython3",
   "version": "3.7.3"
  }
 },
 "nbformat": 4,
 "nbformat_minor": 4
}
