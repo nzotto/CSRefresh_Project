{
 "cells": [
  {
   "cell_type": "markdown",
   "metadata": {},
   "source": [
    "# Computer Science Refershments Project 1\n",
    "\n",
    "## Description\n",
    "\n",
    "TODO\n",
    "\n",
    "## Solution: \n",
    "_Divide and Conquer !_\n",
    "Divise the problem when:\n",
    "- change of segment in the theoretical trajectory\n",
    "- intersection of the theoretical and expereimental trajectories\n",
    "- reach a _summit_ in the experimental trajectory\n",
    "\n",
    "How to calculate the error:\n",
    "__The sum of the areas of the \"Trapezoid\" formed by two points on the theoretical trajectory and two points of the experimental trajectory__\n",
    "o When two points from the experimental and theoretical trajectories are equals, the are is a triangle. "
   ]
  },
  {
   "cell_type": "code",
   "execution_count": null,
   "metadata": {},
   "outputs": [],
   "source": [
    "## We define trajectory, a list of tuples (x,y) that defines the actual trajectory followed.\n",
    "trajectory = [(0,0),....,(x,y)] #TODO"
   ]
  },
  {
   "cell_type": "code",
   "execution_count": 1,
   "metadata": {},
   "outputs": [
    {
     "ename": "SyntaxError",
     "evalue": "invalid syntax (<ipython-input-1-59b2a8ee34d7>, line 4)",
     "output_type": "error",
     "traceback": [
      "\u001b[1;36m  File \u001b[1;32m\"<ipython-input-1-59b2a8ee34d7>\"\u001b[1;36m, line \u001b[1;32m4\u001b[0m\n\u001b[1;33m    def trajectoryError(coordExp){\u001b[0m\n\u001b[1;37m                                 ^\u001b[0m\n\u001b[1;31mSyntaxError\u001b[0m\u001b[1;31m:\u001b[0m invalid syntax\n"
     ]
    }
   ],
   "source": [
    "\"\"\"\n",
    "coordExp: a list of tuples (x,y). The points received from the \"indoors-gps\"\n",
    "return: the total area difference betweeen the theoretical trajectory and the experimental one.\n",
    "\"\"\"\n",
    "def trajectoryError(coordExp):\n",
    "    # define the experimental trajectory\n",
    "    \n",
    "    # TODO\n",
    "    \n",
    "    return error"
   ]
  }
 ],
 "metadata": {
  "kernelspec": {
   "display_name": "Python 3",
   "language": "python",
   "name": "python3"
  },
  "language_info": {
   "codemirror_mode": {
    "name": "ipython",
    "version": 3
   },
   "file_extension": ".py",
   "mimetype": "text/x-python",
   "name": "python",
   "nbconvert_exporter": "python",
   "pygments_lexer": "ipython3",
   "version": "3.7.3"
  }
 },
 "nbformat": 4,
 "nbformat_minor": 2
}
