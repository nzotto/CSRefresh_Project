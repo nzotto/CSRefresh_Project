{
 "cells": [
  {
   "cell_type": "markdown",
   "metadata": {},
   "source": [
    "### This is the notebook for creating tests and performing them.\n",
    "\n",
    "Format of the paths : p = [(x,y),...]\n",
    "\n",
    "1st : simple, and then more complex.\n",
    "Easiest : same number of points in both paths. No crossing. No going back. On segent. Same position at the beginning."
   ]
  }
 ],
 "metadata": {
  "kernelspec": {
   "display_name": "Python 3",
   "language": "python",
   "name": "python3"
  },
  "language_info": {
   "codemirror_mode": {
    "name": "ipython",
    "version": 3
   },
   "file_extension": ".py",
   "mimetype": "text/x-python",
   "name": "python",
   "nbconvert_exporter": "python",
   "pygments_lexer": "ipython3",
   "version": "3.7.3"
  }
 },
 "nbformat": 4,
 "nbformat_minor": 2
}
