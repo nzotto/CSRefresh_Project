{
 "cells": [
  {
   "cell_type": "markdown",
   "metadata": {},
   "source": [
    "In this file, we will perform unit testing for the object-oriented version of the solution.\n",
    "\n",
    "## Format of the paths: \n",
    "p = [P1,P2,...] where P1, P2 are Points."
   ]
  },
  {
   "cell_type": "code",
   "execution_count": 3,
   "metadata": {},
   "outputs": [
    {
     "ename": "SyntaxError",
     "evalue": "invalid syntax (Objects.py, line 84)",
     "output_type": "error",
     "traceback": [
      "Traceback \u001b[1;36m(most recent call last)\u001b[0m:\n",
      "  File \u001b[0;32m\"C:\\Users\\Zotto\\Anaconda3\\lib\\site-packages\\IPython\\core\\interactiveshell.py\"\u001b[0m, line \u001b[0;32m3296\u001b[0m, in \u001b[0;35mrun_code\u001b[0m\n    exec(code_obj, self.user_global_ns, self.user_ns)\n",
      "\u001b[1;36m  File \u001b[1;32m\"<ipython-input-3-6ebe69baf104>\"\u001b[1;36m, line \u001b[1;32m7\u001b[1;36m, in \u001b[1;35m<module>\u001b[1;36m\u001b[0m\n\u001b[1;33m    import Objects as sl ## the solution notebook exported as a script\u001b[0m\n",
      "\u001b[1;36m  File \u001b[1;32m\"C:\\Users\\Zotto\\Documents\\_Scuola\\DataSci\\M1-S1\\RefresherCS\\CSRefresh_Project\\Objects.py\"\u001b[1;36m, line \u001b[1;32m84\u001b[0m\n\u001b[1;33m    for i in range(len(path)-1)\u001b[0m\n\u001b[1;37m                               ^\u001b[0m\n\u001b[1;31mSyntaxError\u001b[0m\u001b[1;31m:\u001b[0m invalid syntax\n"
     ]
    }
   ],
   "source": [
    "# Imports\n",
    "\n",
    "import matplotlib.pyplot as plt\n",
    "import numpy as np\n",
    "import unittest\n",
    "\n",
    "import Objects as sl ## the solution notebook exported as a script"
   ]
  },
  {
   "cell_type": "code",
   "execution_count": 5,
   "metadata": {},
   "outputs": [],
   "source": [
    "class test_point(unittest.TestCase):\n",
    "    \"\"\"\n",
    "    Unit testing for the Point object.\n",
    "    \"\"\"\n",
    "    # Equality function:\n",
    "    def test_equal(self):\n",
    "        \n",
    "        assetEqual(Point(0,0), Point(0,0))\n",
    "        \n",
    "    def test_not_equal(self):\n",
    "        \n",
    "        self.assertFalse(Point(0,0) == Point(1,1))\n",
    "    # distance:\n",
    "    \n",
    "    def test_distance_xaxis(self):\n",
    "        \n",
    "        self.assertEqual(1, Point(0,0).distance(Point(1,0)))\n",
    "        \n",
    "    def test_distance_xaxis_negative(self):\n",
    "        \n",
    "        self.assertEqual(1, Point(0,0).distance(Point(-1,0)))\n",
    "    \n",
    "    def test_distance_yaxis(self):\n",
    "        \n",
    "        self.assertEqual(1, Point(0,0).distance(Point(0,1)))\n",
    "        \n",
    "    def test_distance_yaxis_negative(self):\n",
    "        \n",
    "        self.assertEqual(1, Point(0,0).distance(Point(0,-1)))\n",
    "        \n",
    "    def test_distance_diagonal(self):\n",
    "        \n",
    "        self.assertEqual(1, Point(0,0).distance(Point(1,1)))\n",
    "        \n",
    "    def test_distance_diagonal_negative(self):\n",
    "        \n",
    "        self.assertEqual(1, Point(0,0).distance(Point(-1,-1)))"
   ]
  },
  {
   "cell_type": "code",
   "execution_count": null,
   "metadata": {},
   "outputs": [],
   "source": [
    "class test_segment(unittest.TestCase):\n",
    "    \"\"\"\n",
    "    Unit testing for the Segment object.\n",
    "    \"\"\"\n",
    "    # length function:\n",
    "    # path_length function:\n",
    "    # intersection function:\n",
    "    # orthogonal_projection function:\n",
    "    # point_belongs_to_segment function:"
   ]
  },
  {
   "cell_type": "code",
   "execution_count": null,
   "metadata": {},
   "outputs": [],
   "source": [
    "# initialisation\n",
    "loader = unittest.TestLoader()\n",
    "myTestSuite = unittest.TestSuite()\n",
    "# add tests\n",
    "myTestSuite.addTests(loader.loadTestsFromTestCase(test_point))\n",
    "# run!\n",
    "runner = unittest.TextTestRunner()\n",
    "runner.run(myTestSuite)"
   ]
  }
 ],
 "metadata": {
  "kernelspec": {
   "display_name": "Python 3",
   "language": "python",
   "name": "python3"
  },
  "language_info": {
   "codemirror_mode": {
    "name": "ipython",
    "version": 3
   },
   "file_extension": ".py",
   "mimetype": "text/x-python",
   "name": "python",
   "nbconvert_exporter": "python",
   "pygments_lexer": "ipython3",
   "version": "3.7.3"
  }
 },
 "nbformat": 4,
 "nbformat_minor": 4
}
